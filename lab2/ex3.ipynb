{
 "cells": [
  {
   "cell_type": "markdown",
   "id": "84783c3b4aeccf26",
   "metadata": {
    "collapsed": false
   },
   "source": [
    "# Analiza obwodu elektrycznego - nadokreślony układ równań"
   ]
  },
  {
   "cell_type": "markdown",
   "source": [
    "importujemy potrzebne biblioteki"
   ],
   "metadata": {
    "collapsed": false
   },
   "id": "311d2f010f6866cf"
  },
  {
   "cell_type": "code",
   "execution_count": 925,
   "id": "initial_id",
   "metadata": {
    "collapsed": true,
    "jupyter": {
     "outputs_hidden": true
    },
    "ExecuteTime": {
     "end_time": "2025-03-28T22:53:36.784458Z",
     "start_time": "2025-03-28T22:53:36.778441Z"
    }
   },
   "outputs": [],
   "source": [
    "import numpy as np\n",
    "import networkx as nx\n",
    "from pyvis.network import Network\n",
    "from collections import deque\n"
   ]
  },
  {
   "cell_type": "markdown",
   "source": [
    "wczytujemy graf z pliku"
   ],
   "metadata": {
    "collapsed": false
   },
   "id": "db15cae210b253f6"
  },
  {
   "cell_type": "code",
   "outputs": [],
   "source": [
    "def load_from_file(file_path):\n",
    "    with open(file_path, 'r') as file:\n",
    "        lines = file.readlines()\n",
    "        G = nx.Graph()\n",
    "        for line in lines:\n",
    "            u, v, resistance = line.split()\n",
    "            G.add_edge(int(u), int(v), res=float(resistance))\n",
    "    return G"
   ],
   "metadata": {
    "collapsed": false,
    "ExecuteTime": {
     "end_time": "2025-03-28T22:53:36.944553Z",
     "start_time": "2025-03-28T22:53:36.936084Z"
    }
   },
   "id": "99e826a9cce68193",
   "execution_count": 926
  },
  {
   "cell_type": "markdown",
   "source": [
    "Znajdujemy natężenia prądów w obwodzie metodą potencjałów węzłowych\n",
    "W tym celu musimy dla każdego węzła obliczyć jego potencjał elektryczny na podstawie prawa Kirchhoffa dla węzłów oraz prawa Ohma dla gałęzi.\n",
    "Następnie dla każdej gałęzi obliczamy natężenie prądu na podstawie różnicy potencjałów oraz rezystancji.\n",
    "\n",
    "n - liczba węzłów\n",
    "m - liczba gałęzi\n",
    "Macierz konduktancji A:\n",
    "(dla każdego sąsiada węzła i)\n",
    "- A[i][i] = 1 / rezystancja, czyli  sumujemy przewodności wszystkich gałęzi wychodzących z węzła.\n",
    "- A[i][j] = -1 / rezystancja, czyli odejmujemy wpływ innych węzłów\n",
    "\n",
    "Wektor wymuszeń b:\n",
    "- b[i] = E, dla węzła źródłowego\n",
    "- b[i] = 0, dla pozostałych węzłów\n",
    "\n",
    "Rozwiązujemy układ równań A * V = b, gdzie V to wektor potencjałów węzłowych\n",
    "Następnie obliczamy różnicę potencjałów dla każdej gałęzi i na jej podstawie natężenie prądu ze wzoru I = V_diff / rezystancja"
   ],
   "metadata": {
    "collapsed": false
   },
   "id": "1351a769e4ff065a"
  },
  {
   "cell_type": "code",
   "execution_count": 927,
   "id": "2fd8df3d2d6fcc3d",
   "metadata": {
    "collapsed": false,
    "ExecuteTime": {
     "end_time": "2025-03-28T22:53:37.006341Z",
     "start_time": "2025-03-28T22:53:36.986064Z"
    }
   },
   "outputs": [],
   "source": [
    "\n",
    "def solve_circuit(file, s, t, E):\n",
    "    G = load_from_file(file)\n",
    "    nodes = list(G.nodes)\n",
    "    \n",
    "    masa = t  # Ustalony węzeł odniesienia\n",
    "    n = len(nodes)\n",
    "\n",
    "    # Macierz konduktancji i wektor wymuszeń\n",
    "    A = np.zeros((n, n))\n",
    "    b = np.zeros(n)\n",
    "\n",
    "    for i, node in enumerate(nodes):\n",
    "        if node == masa or node == s:\n",
    "            A[i][i] = 1\n",
    "        else:\n",
    "            for neighbor in G.neighbors(node):\n",
    "                j = nodes.index(neighbor)\n",
    "                res = G.get_edge_data(node, neighbor)['res']\n",
    "                A[i][j] -= 1 / res\n",
    "                A[i][i] += 1 / res\n",
    "                \n",
    "    # Wymuszenie źródła napięciowego między s a t\n",
    "    b[nodes.index(s)] = E \n",
    "\n",
    "    # Rozwiązanie układu równań\n",
    "    V = np.linalg.solve(A, b)\n",
    "\n",
    "    # Przypisanie potencjałów do węzłów\n",
    "    for i, node in enumerate(nodes):\n",
    "        G.nodes[node]['V'] = V[i]\n",
    "\n",
    "    # Obliczenie prądów w gałęziach\n",
    "    for u, v, data in G.edges(data=True):\n",
    "        V_diff = V[nodes.index(u)] - V[nodes.index(v)]\n",
    "        I = V_diff / data['res']\n",
    "        G[u][v]['V'] = V_diff\n",
    "        G[u][v]['I'] = I\n",
    "\n",
    "    return G"
   ]
  },
  {
   "cell_type": "markdown",
   "source": [
    "Rysowanie obwodu\n",
    "ustawiamy kolor zielony dla niskiego prądu i czerwony dla wysokiego\n",
    "strzalka wskazuje kierunek prądu, ktory ustawiany jest na podstawie różnicy potencjałów"
   ],
   "metadata": {
    "collapsed": false
   },
   "id": "87d8584c2f127ccf"
  },
  {
   "cell_type": "code",
   "outputs": [],
   "source": [
    "low_color = [0, 255, 0]\n",
    "high_color = [255, 0, 0]\n",
    "def draw_circuit(G, name=\"circuit\"):\n",
    "    # print(G.edges(data=True))\n",
    "    net = Network(notebook=True, cdn_resources=\"remote\", height=\"800px\", width=\"100%\")\n",
    "    for node in G.nodes:\n",
    "        net.add_node(node, label=str(node) + f\" V: {G.nodes[node]['V']:.2f}\")\n",
    "        # net.add_node(node, label=str(node))\n",
    "    for edge in G.edges(data=True):\n",
    "        u, v, data = edge\n",
    "        color = f\"rgb({int(low_color[0] + (high_color[0] - low_color[0]) * (abs(data['I'] )/ 10))}, {int(low_color[1] + (high_color[1] - low_color[1]) * (abs(data['I'] )/ 10))}, 0)\"\n",
    "        # specjalne traktowanie źródła\n",
    "        if 'res' in data and data['res'] == 0:\n",
    "            net.add_edge(u, v, label=f\"I: {abs(data['I']):.2f}A, R: {data['res']:.2f} \", color=color, width=5, arrows='from')\n",
    "        elif 'I' in data:\n",
    "            # skierowanie strzałki\n",
    "            direction = 'to' if data['I'] > 0 else 'from'\n",
    "            # net.add_edge(u, v, label=f\"I: {data['I']:.2f}A, R: {data['res']:.2f} V: {data['V']:.2f}\", color=color, width=5, arrows='from')\n",
    "            net.add_edge(u, v, label=f\"I: {abs(data['I']):.2f}A, R: {data['res']:.2f} \", color=color, width=5, arrows=direction)\n",
    "        else:\n",
    "            print(\"No I\")\n",
    "            net.add_edge(u, v, label=f\"R: {data['res']:.2f}\")\n",
    "    net.toggle_physics(True)\n",
    "    net.set_options(\"\"\"\n",
    "    var options = {\n",
    "        \"physics\": {\n",
    "            \"barnesHut\": {\n",
    "                \"gravitationalConstant\": -8000,\n",
    "                \"centralGravity\": 0.3,\n",
    "                \"springLength\": 400,\n",
    "                \"springConstant\": 0.04,\n",
    "                \"damping\": 0.09\n",
    "            },\n",
    "            \"minVelocity\": 0.75\n",
    "        }\n",
    "    }\n",
    "    \"\"\")\n",
    "    net.show(f'visualization/{name}.html')\n"
   ],
   "metadata": {
    "collapsed": false,
    "ExecuteTime": {
     "end_time": "2025-03-28T22:53:37.111894Z",
     "start_time": "2025-03-28T22:53:37.088577Z"
    }
   },
   "id": "354a0877e2f12c0a",
   "execution_count": 928
  },
  {
   "cell_type": "markdown",
   "source": [
    "Testowanie układu z wykorzystaniem prawa Kirchoffa który mówi, że suma prądów wchodzących do węzła jest równa sumie prądów wychodzących z węzła"
   ],
   "metadata": {
    "collapsed": false
   },
   "id": "32c7210fe36906ef"
  },
  {
   "cell_type": "code",
   "outputs": [],
   "source": [
    "EPS = 1e-10\n",
    "\n",
    "def check_first_kirchoff_law(G,s,t):\n",
    "    verts = [0]*len(G.nodes)\n",
    "    for e in G.edges:\n",
    "        i = G[e[0]][e[1]]['I']\n",
    "        verts[e[0]] -= i\n",
    "        verts[e[1]] += i\n",
    "        \n",
    "    for i, curr in enumerate(verts):\n",
    "        if i == s or i == t:\n",
    "            continue\n",
    "        if abs(curr) > EPS:\n",
    "            return False\n",
    "    \n",
    "    return True\n"
   ],
   "metadata": {
    "collapsed": false,
    "ExecuteTime": {
     "end_time": "2025-03-28T22:53:37.159470Z",
     "start_time": "2025-03-28T22:53:37.148188Z"
    }
   },
   "id": "8abb48f0d49e955b",
   "execution_count": 929
  },
  {
   "cell_type": "code",
   "outputs": [],
   "source": [
    "def TEST(Gdir, s, t):\n",
    "    print(\"I Kirchoff law:\", \"PASSED\" if check_first_kirchoff_law(Gdir,s,t) else \"FAILED!!\")"
   ],
   "metadata": {
    "collapsed": false,
    "ExecuteTime": {
     "end_time": "2025-03-28T22:53:37.213007Z",
     "start_time": "2025-03-28T22:53:37.205839Z"
    }
   },
   "id": "320e529f4d486615",
   "execution_count": 930
  },
  {
   "cell_type": "code",
   "outputs": [],
   "source": [
    "np.random.seed(33)\n",
    "def save_to_file(G, file_path):\n",
    "    with open(file_path, 'w') as file:\n",
    "        for u, v in G.edges:\n",
    "            file.write(f\"{u} {v} {np.random.randint(1,10)}\\n\")"
   ],
   "metadata": {
    "collapsed": false,
    "ExecuteTime": {
     "end_time": "2025-03-28T22:53:37.257213Z",
     "start_time": "2025-03-28T22:53:37.249063Z"
    }
   },
   "id": "756968ac791de7eb",
   "execution_count": 931
  },
  {
   "cell_type": "markdown",
   "source": [
    "Generowanie grafów"
   ],
   "metadata": {
    "collapsed": false
   },
   "id": "cec62f2336bf8c8b"
  },
  {
   "cell_type": "code",
   "outputs": [],
   "source": [
    "def generate_graphs_to_files():\n",
    "    # erdos_renyi_graph\n",
    "    erdos = nx.erdos_renyi_graph(20, 0.5, seed=33)\n",
    "    save_to_file(erdos, \"graphs/erdos.txt\")\n",
    "    # regular_graph\n",
    "    regular = nx.random_regular_graph(3, 16, seed=33)\n",
    "    save_to_file(regular, \"graphs/regular.txt\")\n",
    "    # connected_graph\n",
    "    connected = nx.disjoint_union(nx.erdos_renyi_graph(10, 0.5, seed=33), nx.erdos_renyi_graph(10, 0.5, seed=33))\n",
    "    connected.add_edge(5, 12, res=1)\n",
    "    save_to_file(connected, \"graphs/connected.txt\")\n",
    "    # grid_graph\n",
    "    grid = nx.convert_node_labels_to_integers(nx.grid_2d_graph(5, 5))\n",
    "    save_to_file(grid, \"graphs/grid.txt\")\n",
    "    # small_world_graph\n",
    "    small_world = nx.watts_strogatz_graph(20, 4, 0.5, seed=33)\n",
    "    save_to_file(small_world, \"graphs/small_world.txt\")\n",
    "generate_graphs_to_files()"
   ],
   "metadata": {
    "collapsed": false,
    "ExecuteTime": {
     "end_time": "2025-03-28T22:53:37.300144Z",
     "start_time": "2025-03-28T22:53:37.281354Z"
    }
   },
   "id": "6ad98d1d881b2588",
   "execution_count": 932
  },
  {
   "cell_type": "code",
   "outputs": [],
   "source": [
    "def add_source_edge(G, s, t):\n",
    "    A_sum = 0\n",
    "    for neighbor in G.neighbors(s):\n",
    "        A_sum +=  G.get_edge_data(s, neighbor)['I']\n",
    "        \n",
    "    G.add_edge(s, t, res=0, I=A_sum)"
   ],
   "metadata": {
    "collapsed": false,
    "ExecuteTime": {
     "end_time": "2025-03-28T22:53:37.400339Z",
     "start_time": "2025-03-28T22:53:37.381502Z"
    }
   },
   "id": "ac0c40fa0efc4e84",
   "execution_count": 933
  },
  {
   "cell_type": "markdown",
   "source": [
    "Testowanie"
   ],
   "metadata": {
    "collapsed": false
   },
   "id": "c33baa4aeb0d94b5"
  },
  {
   "cell_type": "code",
   "outputs": [
    {
     "name": "stdout",
     "output_type": "stream",
     "text": [
      "visualization/erdos.html\n",
      "I Kirchoff law: PASSED\n",
      "visualization/regular.html\n",
      "I Kirchoff law: PASSED\n",
      "visualization/connected.html\n",
      "I Kirchoff law: PASSED\n",
      "visualization/grid.html\n",
      "I Kirchoff law: PASSED\n",
      "visualization/small_world.html\n",
      "I Kirchoff law: PASSED\n"
     ]
    }
   ],
   "source": [
    "erdos= solve_circuit(\"graphs/erdos.txt\", 0, 15,100)\n",
    "draw_circuit(erdos, \"erdos\")\n",
    "TEST(erdos,  0, 15)\n",
    "\n",
    "regular = solve_circuit(\"graphs/regular.txt\", 0, 15,100)\n",
    "draw_circuit(regular, \"regular\")\n",
    "TEST(regular,  0, 15)\n",
    "\n",
    "connected = solve_circuit(\"graphs/connected.txt\", 0, 15,100)\n",
    "add_source_edge(connected, 0,15)\n",
    "draw_circuit(connected, \"connected\")\n",
    "TEST(connected,  0, 15)\n",
    "\n",
    "grid = solve_circuit(\"graphs/grid.txt\", 0, 24,100)\n",
    "draw_circuit(grid, \"grid\")\n",
    "TEST(grid,  0, 24)\n",
    "\n",
    "small_world = solve_circuit(\"graphs/small_world.txt\", 0, 15,100)\n",
    "draw_circuit(small_world, \"small_world\")\n",
    "TEST(small_world,  0, 15)\n"
   ],
   "metadata": {
    "collapsed": false,
    "ExecuteTime": {
     "end_time": "2025-03-28T22:53:37.681855Z",
     "start_time": "2025-03-28T22:53:37.420068Z"
    }
   },
   "id": "723eb5d42eb08051",
   "execution_count": 934
  }
 ],
 "metadata": {
  "kernelspec": {
   "display_name": "Python 3 (ipykernel)",
   "language": "python",
   "name": "python3"
  },
  "language_info": {
   "codemirror_mode": {
    "name": "ipython",
    "version": 3
   },
   "file_extension": ".py",
   "mimetype": "text/x-python",
   "name": "python",
   "nbconvert_exporter": "python",
   "pygments_lexer": "ipython3",
   "version": "3.10.12"
  }
 },
 "nbformat": 4,
 "nbformat_minor": 5
}
