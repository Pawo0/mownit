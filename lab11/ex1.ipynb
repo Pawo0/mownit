{
 "cells": [
  {
   "metadata": {},
   "cell_type": "markdown",
   "source": "# Faktoryzacja QR metodą Grama-Schmidta\n",
   "id": "2f0515f8e76ab1d0"
  },
  {
   "cell_type": "code",
   "id": "initial_id",
   "metadata": {
    "collapsed": true,
    "ExecuteTime": {
     "end_time": "2025-06-13T17:20:23.604640Z",
     "start_time": "2025-06-13T17:20:23.587379Z"
    }
   },
   "source": [
    "import numpy as np\n",
    "\n",
    "def gram_schmidt_qr(A):\n",
    "    n = A.shape[0]\n",
    "    Q = np.zeros((n, n))\n",
    "    R = np.zeros((n, n))\n",
    "\n",
    "    for k in range(n):\n",
    "        u_prime = A[:, k]\n",
    "        for i in range(k):\n",
    "            r_ik = np.dot(Q[:, i], A[:, k])\n",
    "            u_prime = u_prime - r_ik * Q[:, i]\n",
    "\n",
    "        norm_u_prime = np.linalg.norm(u_prime)\n",
    "        Q[:, k] = u_prime / norm_u_prime\n",
    "\n",
    "        R[k, k] = norm_u_prime\n",
    "        for j in range(k + 1, n):\n",
    "            R[k, j] = np.dot(Q[:, k], A[:, j])\n",
    "\n",
    "    return Q, R\n",
    "\n",
    "\n",
    "\n",
    "def test_gram_schmidt_qr():\n",
    "    sizes = [3, 4, 5, 6]  # Rozmiary macierzy\n",
    "    for size in sizes:\n",
    "        # Generowanie losowej macierzy\n",
    "        A = np.random.rand(size, size)\n",
    "\n",
    "        # Faktoryzacja QR za pomocą zaimplementowanej metody\n",
    "        Q_custom, R_custom = gram_schmidt_qr(A)\n",
    "\n",
    "        # Faktoryzacja QR za pomocą funkcji bibliotecznej\n",
    "        Q_lib, R_lib = np.linalg.qr(A)\n",
    "\n",
    "        # Porównanie wyników\n",
    "        print(f\"Rozmiar macierzy: {size}x{size}\")\n",
    "        print(\"Czy macierz Q jest ortogonalna (metoda własna)?\", np.allclose(np.dot(Q_custom.T, Q_custom), np.eye(size)))\n",
    "        print(\"Czy macierz Q jest ortogonalna (biblioteka)?\", np.allclose(np.dot(Q_lib.T, Q_lib), np.eye(size)))\n",
    "        print(\"Czy macierz R jest górnotrójkątna (metoda własna)?\", np.allclose(R_custom, np.triu(R_custom)))\n",
    "        print(\"Czy macierz R jest górnotrójkątna (biblioteka)?\", np.allclose(R_lib, np.triu(R_lib)))\n",
    "        print(\"Czy A = Q * R (metoda własna)?\", np.allclose(A, np.dot(Q_custom, R_custom)))\n",
    "        print(\"Czy A = Q * R (biblioteka)?\", np.allclose(A, np.dot(Q_lib, R_lib)))\n",
    "        print(\"-\" * 50)\n",
    "\n",
    "# Wywołanie testów\n",
    "test_gram_schmidt_qr()"
   ],
   "outputs": [
    {
     "name": "stdout",
     "output_type": "stream",
     "text": [
      "Rozmiar macierzy: 3x3\n",
      "Czy macierz Q jest ortogonalna (metoda własna)? True\n",
      "Czy macierz Q jest ortogonalna (biblioteka)? True\n",
      "Czy macierz R jest górnotrójkątna (metoda własna)? True\n",
      "Czy macierz R jest górnotrójkątna (biblioteka)? True\n",
      "Czy A = Q * R (metoda własna)? True\n",
      "Czy A = Q * R (biblioteka)? True\n",
      "--------------------------------------------------\n",
      "Rozmiar macierzy: 4x4\n",
      "Czy macierz Q jest ortogonalna (metoda własna)? True\n",
      "Czy macierz Q jest ortogonalna (biblioteka)? True\n",
      "Czy macierz R jest górnotrójkątna (metoda własna)? True\n",
      "Czy macierz R jest górnotrójkątna (biblioteka)? True\n",
      "Czy A = Q * R (metoda własna)? True\n",
      "Czy A = Q * R (biblioteka)? True\n",
      "--------------------------------------------------\n",
      "Rozmiar macierzy: 5x5\n",
      "Czy macierz Q jest ortogonalna (metoda własna)? True\n",
      "Czy macierz Q jest ortogonalna (biblioteka)? True\n",
      "Czy macierz R jest górnotrójkątna (metoda własna)? True\n",
      "Czy macierz R jest górnotrójkątna (biblioteka)? True\n",
      "Czy A = Q * R (metoda własna)? True\n",
      "Czy A = Q * R (biblioteka)? True\n",
      "--------------------------------------------------\n",
      "Rozmiar macierzy: 6x6\n",
      "Czy macierz Q jest ortogonalna (metoda własna)? True\n",
      "Czy macierz Q jest ortogonalna (biblioteka)? True\n",
      "Czy macierz R jest górnotrójkątna (metoda własna)? True\n",
      "Czy macierz R jest górnotrójkątna (biblioteka)? True\n",
      "Czy A = Q * R (metoda własna)? True\n",
      "Czy A = Q * R (biblioteka)? True\n",
      "--------------------------------------------------\n"
     ]
    }
   ],
   "execution_count": 4
  },
  {
   "metadata": {
    "ExecuteTime": {
     "end_time": "2025-06-13T17:33:14.351927Z",
     "start_time": "2025-06-13T17:33:14.342157Z"
    }
   },
   "cell_type": "code",
   "source": [
    "\n",
    "def compare_matrices(A, B):\n",
    "    if A.shape != B.shape:\n",
    "        print(\"Błąd: Macierze mają różne wymiary i nie można ich porównać.\")\n",
    "        return None\n",
    "\n",
    "    diff = A - B\n",
    "\n",
    "    frobenius_norm = np.linalg.norm(diff, 'fro')\n",
    "\n",
    "    return frobenius_norm\n",
    "\n",
    "test_matrices = {\n",
    "    \"Matrix 3x3\": np.random.rand(3, 3) * 10,\n",
    "    \"Matrix 4x4\": np.random.rand(4, 4) * 10,\n",
    "    \"Matrix 5x5\": np.random.rand(5, 5) * 10,\n",
    "}\n",
    "\n",
    "print(\"--- Testy Faktoryzacji QR Metodą Grama-Schmidta ---\")\n",
    "\n",
    "for name, A in test_matrices.items():\n",
    "    print(f\"\\n--- Analiza dla: {name} ---\")\n",
    "\n",
    "    Q, R = gram_schmidt_qr(A)\n",
    "    Q_lib, R_lib = np.linalg.qr(A)\n",
    "    frobenius_norm_Q = compare_matrices(Q, Q_lib)\n",
    "    frobenius_norm_R = compare_matrices(R, R_lib)\n",
    "    print(f\"Frobenius norm of Q: {frobenius_norm_Q}\")\n",
    "    print(f\"Frobenius norm of R: {frobenius_norm_R}\")"
   ],
   "id": "92df81f6e9be31e4",
   "outputs": [
    {
     "name": "stdout",
     "output_type": "stream",
     "text": [
      "--- Testy Faktoryzacji QR Metodą Grama-Schmidta ---\n",
      "\n",
      "--- Analiza dla: Matrix 3x3 ---\n",
      "Frobenius norm of Q: 2.82842712474619\n",
      "Frobenius norm of R: 29.39093281772179\n",
      "\n",
      "--- Analiza dla: Matrix 4x4 ---\n",
      "Frobenius norm of Q: 1.9999999999999998\n",
      "Frobenius norm of R: 33.1951575581583\n",
      "\n",
      "--- Analiza dla: Matrix 5x5 ---\n",
      "Frobenius norm of Q: 4.0\n",
      "Frobenius norm of R: 56.25452455026667\n"
     ]
    }
   ],
   "execution_count": 6
  }
 ],
 "metadata": {
  "kernelspec": {
   "display_name": "Python 3",
   "language": "python",
   "name": "python3"
  },
  "language_info": {
   "codemirror_mode": {
    "name": "ipython",
    "version": 2
   },
   "file_extension": ".py",
   "mimetype": "text/x-python",
   "name": "python",
   "nbconvert_exporter": "python",
   "pygments_lexer": "ipython2",
   "version": "2.7.6"
  }
 },
 "nbformat": 4,
 "nbformat_minor": 5
}
