{
 "cells": [
  {
   "cell_type": "markdown",
   "source": [
    "# Zadanie 1 Metoda Gaussa-Jordana\n",
    "Napisz i sprawdź funkcję rozwiązującą układ równań liniowych n × n metodą Gaussa-Jordana z częściowym poszukiwaniem elementu wiodącego. Dla dziesięciu różnych rozmiarów macierzy współczynników większych niż 500 × 500 porównaj czasy działania zaimplementowanej funkcji z czasami uzyskanymi dla wybranych funkcji bibliotecznych."
   ],
   "metadata": {
    "collapsed": false
   },
   "id": "8ec5ae8bfc7d8358"
  },
  {
   "cell_type": "code",
   "outputs": [],
   "source": [
    "import numpy as np\n",
    "import scipy\n",
    "import time"
   ],
   "metadata": {
    "collapsed": false,
    "ExecuteTime": {
     "end_time": "2025-03-27T19:51:29.306768Z",
     "start_time": "2025-03-27T19:51:29.303617Z"
    }
   },
   "id": "c0685c2413f98dda",
   "execution_count": 5
  },
  {
   "cell_type": "markdown",
   "source": [
    "Poniżej znajduje się implementacja metody Gaussa-Jordana rozwiązywania układu równań w sposób tradycyjny i z wykorzystaniem biblioteki numpy.  "
   ],
   "metadata": {
    "collapsed": false
   },
   "id": "f5c6512c59ab723b"
  },
  {
   "cell_type": "code",
   "outputs": [],
   "source": [
    "def gauss_jordan(A, B):\n",
    "    n = len(A)\n",
    "    for i in range(n):\n",
    "        # partial pivoting\n",
    "        max_index = i\n",
    "        for j in range(i + 1, n):\n",
    "            if abs(A[j][i]) > abs(A[max_index][i]):\n",
    "                max_index = j\n",
    "        # swap rows\n",
    "        if max_index != i:\n",
    "            B[i], B[max_index] = B[max_index], B[i]\n",
    "            for j in range(n):\n",
    "                A[i][j], A[max_index][j] = A[max_index][j], A[i][j]\n",
    "        # normalizing\n",
    "        pivot = A[i][i]\n",
    "        B[i] = B[i] / pivot\n",
    "        for j in range(i, n):\n",
    "            A[i][j] = A[i][j] / pivot\n",
    "        # zeroing\n",
    "        for j in range(n):\n",
    "            if i != j:\n",
    "                ratio = A[j][i]\n",
    "                B[j] = B[j] - ratio * B[i]\n",
    "                for k in range(i, n):\n",
    "                    A[j][k] = A[j][k] - ratio * A[i][k]\n",
    "    return B\n",
    "\n",
    "\n",
    "\n",
    "def gauss_jordan_np(A, B):\n",
    "    n = len(A)\n",
    "    \n",
    "    for i in range(n):\n",
    "        # Partial pivoting\n",
    "        max_index = np.argmax(np.abs(A[i:, i])) + i\n",
    "        if max_index != i:\n",
    "            A[[i, max_index]] = A[[max_index, i]]\n",
    "            B[[i, max_index]] = B[[max_index, i]]\n",
    "        \n",
    "        # Normalizing\n",
    "        pivot = A[i, i]\n",
    "        A[i] /= pivot\n",
    "        B[i] /= pivot\n",
    "        \n",
    "        # Zeroing\n",
    "        for j in range(n):\n",
    "            if i != j:\n",
    "                ratio = A[j, i]\n",
    "                A[j] -= ratio * A[i]\n",
    "                B[j] -= ratio * B[i]\n",
    "    \n",
    "    return B\n"
   ],
   "metadata": {
    "collapsed": false,
    "ExecuteTime": {
     "end_time": "2025-03-27T19:51:29.339910Z",
     "start_time": "2025-03-27T19:51:29.329574Z"
    }
   },
   "id": "80ba9a5836b473d0",
   "execution_count": 6
  },
  {
   "cell_type": "markdown",
   "source": [
    "Porównanie funkcji"
   ],
   "metadata": {
    "collapsed": false
   },
   "id": "fec9e9347c7aeafa"
  },
  {
   "cell_type": "code",
   "outputs": [
    {
     "name": "stdout",
     "output_type": "stream",
     "text": [
      "\n",
      "for matrix 500x500\n",
      "time for custom gauss np  1.1985373497009277\n",
      "time for linalg solve gauss 0.007549285888671875\n",
      "time for linalg lstsq gauss 0.4608938694000244\n",
      "time for scipy lu gauss 1.149120569229126\n",
      "\n",
      "for matrix 600x600\n",
      "time for custom gauss np  1.5751008987426758\n",
      "time for linalg solve gauss 0.006840944290161133\n",
      "time for linalg lstsq gauss 0.4035465717315674\n",
      "time for scipy lu gauss 0.28017210960388184\n",
      "\n",
      "for matrix 700x700\n",
      "time for custom gauss np  1.9735994338989258\n",
      "time for linalg solve gauss 0.009188652038574219\n",
      "time for linalg lstsq gauss 0.11555600166320801\n",
      "time for scipy lu gauss 0.45828700065612793\n",
      "\n",
      "for matrix 800x800\n",
      "time for custom gauss np  2.3334898948669434\n",
      "time for linalg solve gauss 0.010416984558105469\n",
      "time for linalg lstsq gauss 0.08812069892883301\n",
      "time for scipy lu gauss 1.5124683380126953\n",
      "\n",
      "for matrix 900x900\n",
      "time for custom gauss np  3.480464220046997\n",
      "time for linalg solve gauss 0.017415523529052734\n",
      "time for linalg lstsq gauss 0.6980092525482178\n",
      "time for scipy lu gauss 0.14562129974365234\n",
      "\n",
      "for matrix 1000x1000\n",
      "time for custom gauss np  3.9680404663085938\n",
      "time for linalg solve gauss 0.018861055374145508\n",
      "time for linalg lstsq gauss 0.20614933967590332\n",
      "time for scipy lu gauss 0.16884756088256836\n",
      "\n",
      "for matrix 1100x1100\n",
      "time for custom gauss np  4.851139545440674\n",
      "time for linalg solve gauss 0.02780318260192871\n",
      "time for linalg lstsq gauss 0.4902527332305908\n",
      "time for scipy lu gauss 0.13397765159606934\n",
      "\n",
      "for matrix 1200x1200\n",
      "time for custom gauss np  6.032514572143555\n",
      "time for linalg solve gauss 0.034271955490112305\n",
      "time for linalg lstsq gauss 0.5412032604217529\n",
      "time for scipy lu gauss 0.2537517547607422\n",
      "\n",
      "for matrix 1300x1300\n",
      "time for custom gauss np  7.542332649230957\n",
      "time for linalg solve gauss 0.04852867126464844\n",
      "time for linalg lstsq gauss 1.4340708255767822\n",
      "time for scipy lu gauss 0.13483357429504395\n",
      "\n",
      "for matrix 1400x1400\n",
      "time for custom gauss np  8.988028526306152\n",
      "time for linalg solve gauss 0.06672358512878418\n",
      "time for linalg lstsq gauss 1.4224810600280762\n",
      "time for scipy lu gauss 0.153029203414917\n"
     ]
    }
   ],
   "source": [
    "matrixs = [np.random.rand(i * 100, i * 100) for i in range(5,15)]\n",
    "b = [np.array([1] * (i * 100)) for i in range(5,15)]\n",
    "\n",
    "\n",
    "for i in range(10):\n",
    "    print(f\"\\nfor matrix {(i+5)*100}x{(i+5)*100}\")\n",
    "    # start = time.time()\n",
    "    # gauss_jordan(matrixs[i], b[i])\n",
    "    # stop = time.time()\n",
    "    # custom_time = stop - start\n",
    "    \n",
    "\n",
    "    start = time.time()\n",
    "    gauss_jordan_np(matrixs[i], b[i])\n",
    "    stop = time.time()\n",
    "    custom_time_np = stop - start\n",
    "    \n",
    "    start = time.time()\n",
    "    np.linalg.solve(matrixs[i], b[i])\n",
    "    stop = time.time()\n",
    "    linalg_solve_time = stop - start\n",
    "    \n",
    "    start = time.time()\n",
    "    np.linalg.lstsq(matrixs[i], b[i])\n",
    "    stop = time.time()\n",
    "    linalg_lstsq_time = stop - start\n",
    "    \n",
    "    start = time.time()\n",
    "    scipy.linalg.lu(matrixs[i])\n",
    "    stop = time.time()\n",
    "    scipy_lu_time = stop - start\n",
    "    \n",
    "    # print('time for custom gauss ', custom_time)\n",
    "    print('time for custom gauss np ', custom_time_np)\n",
    "    print('time for linalg solve gauss', linalg_solve_time)\n",
    "    print('time for linalg lstsq gauss', linalg_lstsq_time)\n",
    "    print('time for scipy lu gauss', scipy_lu_time)\n"
   ],
   "metadata": {
    "collapsed": false,
    "ExecuteTime": {
     "end_time": "2025-03-27T19:52:21.890824Z",
     "start_time": "2025-03-27T19:51:29.342062Z"
    }
   },
   "id": "f930ac112120408e",
   "execution_count": 7
  },
  {
   "cell_type": "markdown",
   "source": [
    "# Zadanie 2\n",
    "Napisz i przetestuj funkcję dokonującą faktoryzacji A = LU macierzy A (bez poszuki-\n",
    "wania elementu wiodącego). Sprawdź poprawność wyniku obliczając ∥A − LU∥. Zadbaj\n",
    "o to żeby implementacja była in-situ. Elementy macierzy L to współczynniki mnożenia\n",
    "umożliwiające wyzerowanie odpowiedniego współczynnika macierzy A w trakcie procesu\n",
    "eliminacji."
   ],
   "metadata": {
    "collapsed": false
   },
   "id": "f0675e2a8c34809b"
  },
  {
   "cell_type": "code",
   "outputs": [
    {
     "name": "stdout",
     "output_type": "stream",
     "text": [
      "4.792589249349777e-11\n"
     ]
    }
   ],
   "source": [
    "def LU(A):\n",
    "    n = A.shape[0]\n",
    "    for i in range(n):\n",
    "        for j in range(i + 1, n):\n",
    "            pivot = A[j,i] / A[i,i]\n",
    "            A[j, i:] -= pivot * A[i, i:]\n",
    "            A[j,i] = pivot\n",
    "\n",
    "    L = np.tril(A, -1) + np.eye(n)\n",
    "    U = np.triu(A)\n",
    "    return (L, U)\n",
    "\n",
    "A = np.random.rand(500,500)\n",
    "L, U = LU(A.copy())\n",
    "\n",
    "print(np.linalg.norm(np.subtract(A, np.matmul(L,U))))"
   ],
   "metadata": {
    "collapsed": false,
    "ExecuteTime": {
     "end_time": "2025-03-27T19:52:22.407234Z",
     "start_time": "2025-03-27T19:52:21.895416Z"
    }
   },
   "id": "d6a801839c4ca418",
   "execution_count": 8
  }
 ],
 "metadata": {
  "kernelspec": {
   "display_name": "Python 3",
   "language": "python",
   "name": "python3"
  },
  "language_info": {
   "codemirror_mode": {
    "name": "ipython",
    "version": 2
   },
   "file_extension": ".py",
   "mimetype": "text/x-python",
   "name": "python",
   "nbconvert_exporter": "python",
   "pygments_lexer": "ipython2",
   "version": "2.7.6"
  }
 },
 "nbformat": 4,
 "nbformat_minor": 5
}
