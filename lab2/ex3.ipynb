{
 "cells": [
  {
   "cell_type": "markdown",
   "id": "84783c3b4aeccf26",
   "metadata": {
    "collapsed": false
   },
   "source": [
    "# Analiza obwodu elektrycznego - nadokreślony układ równań"
   ]
  },
  {
   "cell_type": "markdown",
   "source": [
    "importujemy potrzebne biblioteki"
   ],
   "metadata": {
    "collapsed": false
   },
   "id": "311d2f010f6866cf"
  },
  {
   "cell_type": "code",
   "execution_count": 311,
   "id": "initial_id",
   "metadata": {
    "collapsed": true,
    "jupyter": {
     "outputs_hidden": true
    },
    "ExecuteTime": {
     "end_time": "2025-03-28T19:44:39.185Z",
     "start_time": "2025-03-28T19:44:39.181841Z"
    }
   },
   "outputs": [],
   "source": [
    "import numpy as np\n",
    "import networkx as nx\n",
    "from pyvis.network import Network\n",
    "from collections import deque\n"
   ]
  },
  {
   "cell_type": "markdown",
   "source": [
    "wczytujemy graf z pliku"
   ],
   "metadata": {
    "collapsed": false
   },
   "id": "db15cae210b253f6"
  },
  {
   "cell_type": "code",
   "outputs": [],
   "source": [
    "def load_from_file(file_path):\n",
    "    with open(file_path, 'r') as file:\n",
    "        lines = file.readlines()\n",
    "        G = nx.Graph()\n",
    "        for line in lines:\n",
    "            u, v, resistance = line.split()\n",
    "            G.add_edge(int(u), int(v), res=float(resistance))\n",
    "    return G"
   ],
   "metadata": {
    "collapsed": false,
    "ExecuteTime": {
     "end_time": "2025-03-28T19:44:39.225555Z",
     "start_time": "2025-03-28T19:44:39.221988Z"
    }
   },
   "id": "99e826a9cce68193",
   "execution_count": 312
  },
  {
   "cell_type": "markdown",
   "source": [
    "Znajdujemy natężenia prądów w obwodzie metodą potencjałów węzłowych\n",
    "W tym celu musimy dla każdego węzła obliczyć jego potencjał elektryczny na podstawie prawa Kirchhoffa dla węzłów oraz prawa Ohma dla gałęzi.\n",
    "Następnie dla każdej gałęzi obliczamy natężenie prądu na podstawie różnicy potencjałów oraz rezystancji.\n",
    "\n",
    "n - liczba węzłów\n",
    "m - liczba gałęzi\n",
    "Macierz konduktancji A:\n",
    "(dla każdego sąsiada węzła i)\n",
    "- A[i][i] = 1 / rezystancja, czyli  sumujemy przewodności wszystkich gałęzi wychodzących z węzła.\n",
    "- A[i][j] = -1 / rezystancja, czyli odejmujemy wpływ innych węzłów\n",
    "\n",
    "Wektor wymuszeń b:\n",
    "- b[i] = E, dla węzła źródłowego\n",
    "- b[i] = 0, dla pozostałych węzłów\n",
    "\n",
    "Rozwiązujemy układ równań A * V = b, gdzie V to wektor potencjałów węzłowych\n",
    "Następnie obliczamy różnicę potencjałów dla każdej gałęzi i na jej podstawie natężenie prądu ze wzoru I = V_diff / rezystancja"
   ],
   "metadata": {
    "collapsed": false
   },
   "id": "1351a769e4ff065a"
  },
  {
   "cell_type": "code",
   "execution_count": 313,
   "id": "2fd8df3d2d6fcc3d",
   "metadata": {
    "collapsed": false,
    "ExecuteTime": {
     "end_time": "2025-03-28T19:44:39.234460Z",
     "start_time": "2025-03-28T19:44:39.227226Z"
    }
   },
   "outputs": [],
   "source": [
    "\n",
    "def solve_circuit(file, s, t, E):\n",
    "    G = load_from_file(file)\n",
    "    nodes = list(G.nodes)\n",
    "    \n",
    "    masa = t  # Ustalony węzeł odniesienia\n",
    "    n = len(nodes)\n",
    "\n",
    "    # Macierz konduktancji i wektor wymuszeń\n",
    "    A = np.zeros((n, n))\n",
    "    b = np.zeros(n)\n",
    "\n",
    "    for i, node in enumerate(nodes):\n",
    "        if node == masa:\n",
    "            A[i][i] = 1\n",
    "            b[i] = 0\n",
    "        else:\n",
    "            for neighbor in G.neighbors(node):\n",
    "                j = nodes.index(neighbor)\n",
    "                res = G.get_edge_data(node, neighbor)['res']\n",
    "                A[i][i] += 1 / res\n",
    "                A[i][j] -= 1 / res\n",
    "    # for i in normal_nodes:\n",
    "    #     nd_idx = nodes_idx[i]\n",
    "    #     for j in G.neighbors(i):\n",
    "    #         if (i, j) == (s, t) or (j, i) == (s, t):\n",
    "    #             continue\n",
    "    #         R = G[i][j]['R']\n",
    "    #         conductance = 1.0 / R\n",
    "    #         if j in nodes_idx:\n",
    "    #             A[nd_idx, nodes_idx[j]] -= conductance\n",
    "    #         else:\n",
    "    #             b[nd_idx] += conductance * special[j]\n",
    "    #         A[nd_idx, nd_idx] += conductance\n",
    "    #         \n",
    "    # Wymuszenie źródła napięciowego między s a t\n",
    "    b[nodes.index(s)] = E \n",
    "\n",
    "    # Rozwiązanie układu równań\n",
    "    V = np.linalg.solve(A, b)\n",
    "\n",
    "    # Przypisanie potencjałów do węzłów\n",
    "    for i, node in enumerate(nodes):\n",
    "        G.nodes[node]['V'] = V[i]\n",
    "\n",
    "    # Obliczenie prądów w gałęziach\n",
    "    for u, v, data in G.edges(data=True):\n",
    "        V_diff = V[nodes.index(u)] - V[nodes.index(v)]\n",
    "        I = V_diff / data['res']\n",
    "        G[u][v]['V'] = V_diff\n",
    "        G[u][v]['I'] = I\n",
    "\n",
    "    return G"
   ]
  },
  {
   "cell_type": "code",
   "outputs": [],
   "source": [
    "def convert_to_directed(G, s):\n",
    "    Gdir = nx.DiGraph()\n",
    "    for node in G.nodes:\n",
    "        Gdir.add_node(node, V=G.nodes[node]['V'])\n",
    "    \n",
    "    visited = set()\n",
    "    queue = deque([s])\n",
    "    \n",
    "    while queue:\n",
    "        u = queue.popleft()\n",
    "        visited.add(u)\n",
    "        \n",
    "        for neighbor in G.neighbors(u):\n",
    "            if neighbor not in visited:\n",
    "                data = G.get_edge_data(u, neighbor)\n",
    "                if data['I'] > 0:\n",
    "                    Gdir.add_edge(u, neighbor, **data)\n",
    "                else:\n",
    "                    data['I'] = -data['I']\n",
    "                    Gdir.add_edge(neighbor, u, **data)\n",
    "                queue.append(neighbor)\n",
    "    \n",
    "    return Gdir\n",
    "\n",
    "def set_direction(G):\n",
    "    \"\"\"jeśli natężenie prądu jest ujemne, to zmieniamy kierunek gałęzi\"\"\"\n",
    "    edges = list(G.edges(data=True))\n",
    "    for fr, to, data in edges:\n",
    "        if data['I'] < 0:\n",
    "            data['I'] = -data['I']\n",
    "            G.remove_edge(fr, to)\n",
    "            G.add_edge(to, fr, **data)"
   ],
   "metadata": {
    "collapsed": false,
    "ExecuteTime": {
     "end_time": "2025-03-28T19:44:39.250974Z",
     "start_time": "2025-03-28T19:44:39.236753Z"
    }
   },
   "id": "d2f36bcf4467045b",
   "execution_count": 314
  },
  {
   "cell_type": "code",
   "outputs": [],
   "source": [
    "low_color = [0, 255, 0]\n",
    "high_color = [255, 0, 0]\n",
    "def draw_circuit(G):\n",
    "    # print(G.edges(data=True))\n",
    "    net = Network(height='750px', width='100%', notebook=True, cdn_resources=\"remote\")\n",
    "    for node in G.nodes:\n",
    "        net.add_node(node, label=str(node) + f\" V: {G.nodes[node]['V']:.2f}\")\n",
    "        # net.add_node(node, label=str(node))\n",
    "    for edge in G.edges(data=True):\n",
    "        u, v, data = edge\n",
    "        color = f\"rgb({int(low_color[0] + (high_color[0] - low_color[0]) * (abs(data['I'] )/ 10))}, {int(low_color[1] + (high_color[1] - low_color[1]) * (abs(data['I'] )/ 10))}, 0)\"\n",
    "        if 'I'  in data:\n",
    "            direction = 'to' if data['I'] > 0 else 'from'\n",
    "            # net.add_edge(u, v, label=f\"I: {data['I']:.2f}A, R: {data['res']:.2f} V: {data['V']:.2f}\", color=color, width=5, arrows='from')\n",
    "            net.add_edge(u, v, label=f\"I: {data['I']:.2f}A, R: {data['res']:.2f} \", color=color, width=5, arrows=direction)\n",
    "        else:\n",
    "            print(\"No I\")\n",
    "            net.add_edge(u, v, label=f\"R: {data['res']:.2f}\")\n",
    "    net.toggle_physics(True)\n",
    "    net.show('circuit.html')\n"
   ],
   "metadata": {
    "collapsed": false,
    "ExecuteTime": {
     "end_time": "2025-03-28T19:44:39.258795Z",
     "start_time": "2025-03-28T19:44:39.252466Z"
    }
   },
   "id": "354a0877e2f12c0a",
   "execution_count": 315
  },
  {
   "cell_type": "code",
   "outputs": [],
   "source": [
    "EPS = 1e-10\n",
    "\n",
    "def check_first_kirchoff_law(G,s,t):\n",
    "    verts = [0]*len(G.nodes)\n",
    "    for e in G.edges:\n",
    "        i = G[e[0]][e[1]]['I']\n",
    "        verts[e[0]] -= i\n",
    "        verts[e[1]] += i\n",
    "        \n",
    "    for i, curr in enumerate(verts):\n",
    "        print(i, curr)\n",
    "        if i == s or i == t:\n",
    "            continue\n",
    "        if abs(curr) > EPS:\n",
    "            return False\n",
    "    \n",
    "    return True\n",
    "\n",
    "def check_second_kirchoff_law(G, Gundir, s, t, E):\n",
    "    cycles = nx.simple_cycles(Gundir)\n",
    "    edges = G.edges\n",
    "\n",
    "    for cycle in cycles:\n",
    "        cycle_edges=zip(cycle,cycle[1:]+[cycle[0]])\n",
    "        cycle_sum = 0\n",
    "        print(cycle)\n",
    "        if s in cycle or t in cycle:\n",
    "            continue\n",
    "        for e in cycle_edges:\n",
    "            if e == (s,t):\n",
    "                cycle_sum -= E\n",
    "            elif e == (t,s):\n",
    "                cycle_sum += E\n",
    "            else:\n",
    "                if e in edges:\n",
    "                    cycle_sum += G[e[0]][e[1]]['I'] * G[e[0]][e[1]]['res']\n",
    "                else:\n",
    "                    cycle_sum -= G[e[1]][e[0]]['I'] * G[e[1]][e[0]]['res']\n",
    "        print(cycle_sum)\n",
    "        if abs(cycle_sum) > EPS:\n",
    "            return False\n",
    "    \n",
    "    return True\n"
   ],
   "metadata": {
    "collapsed": false,
    "ExecuteTime": {
     "end_time": "2025-03-28T19:44:39.274352Z",
     "start_time": "2025-03-28T19:44:39.261056Z"
    }
   },
   "id": "8abb48f0d49e955b",
   "execution_count": 316
  },
  {
   "cell_type": "code",
   "outputs": [],
   "source": [
    "def TEST(Gdir, Gundir, s, t, E):\n",
    "    print(\"I Kirchoff law:\", \"PASSED\" if check_first_kirchoff_law(Gdir,s,t) else \"FAILED!!\")\n",
    "    # print(\"II Kirchoff law:\", \"PASSED\" if check_second_kirchoff_law(Gdir, Gundir, s, t, E) else \"FAILED!!\")"
   ],
   "metadata": {
    "collapsed": false,
    "ExecuteTime": {
     "end_time": "2025-03-28T19:44:39.279430Z",
     "start_time": "2025-03-28T19:44:39.275899Z"
    }
   },
   "id": "320e529f4d486615",
   "execution_count": 317
  },
  {
   "cell_type": "code",
   "outputs": [
    {
     "name": "stdout",
     "output_type": "stream",
     "text": [
      "circuit.html\n",
      "0 9.992007221626409e-16\n",
      "1 -8.881784197001252e-16\n",
      "2 -3.608224830031759e-16\n",
      "3 -3.3306690738754696e-16\n",
      "4 -1.5543122344752192e-15\n",
      "5 4.163336342344337e-16\n",
      "6 1.0269562977782698e-15\n",
      "7 -2.1094237467877974e-15\n",
      "8 -9.992007221626409e-16\n",
      "9 10.000000000000007\n",
      "10 -1.5543122344752192e-15\n",
      "11 -6.661338147750939e-16\n",
      "12 -2.3592239273284576e-15\n",
      "13 1.4432899320127035e-15\n",
      "14 3.552713678800501e-15\n",
      "15 1.7763568394002505e-15\n",
      "16 -2.858824288409778e-15\n",
      "17 1.1102230246251565e-15\n",
      "18 4.551914400963142e-15\n",
      "19 3.552713678800501e-15\n",
      "20 -3.605449272470196e-14\n",
      "21 -9.999999999999986\n",
      "22 5.329070518200751e-15\n",
      "23 4.9682480351975755e-15\n",
      "24 -2.7755575615628914e-15\n",
      "I Kirchoff law: PASSED\n"
     ]
    }
   ],
   "source": [
    "\n",
    "result= solve_circuit(\"graf.txt\", 21, 9,10)\n",
    "# gdir = convert_to_directed(result, 21)\n",
    "draw_circuit(result)\n",
    "graph = load_from_file(\"graf.txt\")\n",
    "TEST(result, graph,  21, 9,10)\n",
    "# draw_circuit(solve_circuit(sample_graph, 1, 0, 10))\n",
    "\n",
    "\n",
    "    "
   ],
   "metadata": {
    "collapsed": false,
    "ExecuteTime": {
     "end_time": "2025-03-28T19:44:39.309160Z",
     "start_time": "2025-03-28T19:44:39.281090Z"
    }
   },
   "id": "d7c83b921e1354ee",
   "execution_count": 318
  }
 ],
 "metadata": {
  "kernelspec": {
   "display_name": "Python 3 (ipykernel)",
   "language": "python",
   "name": "python3"
  },
  "language_info": {
   "codemirror_mode": {
    "name": "ipython",
    "version": 3
   },
   "file_extension": ".py",
   "mimetype": "text/x-python",
   "name": "python",
   "nbconvert_exporter": "python",
   "pygments_lexer": "ipython3",
   "version": "3.10.12"
  }
 },
 "nbformat": 4,
 "nbformat_minor": 5
}
