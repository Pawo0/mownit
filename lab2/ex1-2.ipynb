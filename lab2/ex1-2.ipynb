{
 "cells": [
  {
   "cell_type": "markdown",
   "source": [
    "# Zadanie 1 Metoda Gaussa-Jordana\n",
    "Napisz i sprawdź funkcję rozwiązującą układ równań liniowych n × n metodą Gaussa-Jordana z częściowym poszukiwaniem elementu wiodącego. Dla dziesięciu różnych rozmiarów macierzy współczynników większych niż 500 × 500 porównaj czasy działania zaimplementowanej funkcji z czasami uzyskanymi dla wybranych funkcji bibliotecznych."
   ],
   "metadata": {
    "collapsed": false
   },
   "id": "8ec5ae8bfc7d8358"
  },
  {
   "cell_type": "code",
   "outputs": [],
   "source": [
    "import numpy as np\n",
    "import scipy\n",
    "import time"
   ],
   "metadata": {
    "collapsed": false,
    "ExecuteTime": {
     "end_time": "2025-03-21T15:31:17.616074Z",
     "start_time": "2025-03-21T15:31:17.421562Z"
    }
   },
   "id": "c0685c2413f98dda",
   "execution_count": 1
  },
  {
   "cell_type": "markdown",
   "source": [
    "Poniżej znajduje się implementacja metody Gaussa-Jordana rozwiązywania układu równań w sposób tradycyjny i z wykorzystaniem biblioteki numpy.  "
   ],
   "metadata": {
    "collapsed": false
   },
   "id": "f5c6512c59ab723b"
  },
  {
   "cell_type": "code",
   "outputs": [],
   "source": [
    "def gauss_jordan(A, B):\n",
    "    n = len(A)\n",
    "    for i in range(n):\n",
    "        # partial pivoting\n",
    "        max_index = i\n",
    "        for j in range(i + 1, n):\n",
    "            if abs(A[j][i]) > abs(A[max_index][i]):\n",
    "                max_index = j\n",
    "        # swap rows\n",
    "        if max_index != i:\n",
    "            B[i], B[max_index] = B[max_index], B[i]\n",
    "            for j in range(n):\n",
    "                A[i][j], A[max_index][j] = A[max_index][j], A[i][j]\n",
    "        # normalizing\n",
    "        pivot = A[i][i]\n",
    "        B[i] = B[i] / pivot\n",
    "        for j in range(i, n):\n",
    "            A[i][j] = A[i][j] / pivot\n",
    "        # zeroing\n",
    "        for j in range(n):\n",
    "            if i != j:\n",
    "                ratio = A[j][i]\n",
    "                B[j] = B[j] - ratio * B[i]\n",
    "                for k in range(i, n):\n",
    "                    A[j][k] = A[j][k] - ratio * A[i][k]\n",
    "    return B\n",
    "\n",
    "\n",
    "\n",
    "def gauss_jordan_np(A, B):\n",
    "    n = len(A)\n",
    "    \n",
    "    for i in range(n):\n",
    "        # Partial pivoting\n",
    "        max_index = np.argmax(np.abs(A[i:, i])) + i\n",
    "        if max_index != i:\n",
    "            A[[i, max_index]] = A[[max_index, i]]\n",
    "            B[[i, max_index]] = B[[max_index, i]]\n",
    "        \n",
    "        # Normalizing\n",
    "        pivot = A[i, i]\n",
    "        A[i] /= pivot\n",
    "        B[i] /= pivot\n",
    "        \n",
    "        # Zeroing\n",
    "        for j in range(n):\n",
    "            if i != j:\n",
    "                ratio = A[j, i]\n",
    "                A[j] -= ratio * A[i]\n",
    "                B[j] -= ratio * B[i]\n",
    "    \n",
    "    return B\n"
   ],
   "metadata": {
    "collapsed": false,
    "ExecuteTime": {
     "end_time": "2025-03-21T15:31:17.625288Z",
     "start_time": "2025-03-21T15:31:17.617587Z"
    }
   },
   "id": "80ba9a5836b473d0",
   "execution_count": 2
  },
  {
   "cell_type": "markdown",
   "source": [
    "Porównanie funkcji"
   ],
   "metadata": {
    "collapsed": false
   },
   "id": "fec9e9347c7aeafa"
  },
  {
   "cell_type": "code",
   "outputs": [
    {
     "name": "stdout",
     "output_type": "stream",
     "text": [
      "\n",
      "for matrix 500x500\n",
      "time for custom gauss  46.09958338737488\n",
      "time for custom gauss np  0.7615659236907959\n",
      "time for linalg solve gauss 0.01713252067565918\n",
      "time for linalg lstsq gauss 0.16203737258911133\n",
      "time for scipy lu gauss 0.405900239944458\n",
      "\n",
      "for matrix 600x600\n",
      "time for custom gauss  84.79425644874573\n",
      "time for custom gauss np  1.5659089088439941\n",
      "time for linalg solve gauss 0.012761592864990234\n",
      "time for linalg lstsq gauss 0.3082008361816406\n",
      "time for scipy lu gauss 0.12012052536010742\n",
      "\n",
      "for matrix 700x700\n",
      "time for custom gauss  126.96640920639038\n",
      "time for custom gauss np  1.919090986251831\n",
      "time for linalg solve gauss 0.010081291198730469\n",
      "time for linalg lstsq gauss 0.1611950397491455\n",
      "time for scipy lu gauss 0.12131047248840332\n",
      "\n",
      "for matrix 800x800\n",
      "time for custom gauss  238.53208017349243\n",
      "time for custom gauss np  3.696516752243042\n",
      "time for linalg solve gauss 0.01874232292175293\n",
      "time for linalg lstsq gauss 0.4988245964050293\n",
      "time for scipy lu gauss 0.25035762786865234\n",
      "\n",
      "for matrix 900x900\n",
      "time for custom gauss  335.5479037761688\n",
      "time for custom gauss np  2.500549077987671\n",
      "time for linalg solve gauss 0.017185688018798828\n",
      "time for linalg lstsq gauss 0.12639951705932617\n",
      "time for scipy lu gauss 0.12292265892028809\n",
      "\n",
      "for matrix 1000x1000\n",
      "time for custom gauss  327.0520987510681\n",
      "time for custom gauss np  3.0298213958740234\n",
      "time for linalg solve gauss 0.024035215377807617\n",
      "time for linalg lstsq gauss 0.1339559555053711\n",
      "time for scipy lu gauss 0.12591123580932617\n",
      "\n",
      "for matrix 1100x1100\n",
      "time for custom gauss  440.8517076969147\n",
      "time for custom gauss np  3.8505477905273438\n",
      "time for linalg solve gauss 0.028003931045532227\n",
      "time for linalg lstsq gauss 0.2649698257446289\n",
      "time for scipy lu gauss 0.1699390411376953\n",
      "\n",
      "for matrix 1200x1200\n",
      "time for custom gauss  575.117805480957\n",
      "time for custom gauss np  4.820699691772461\n",
      "time for linalg solve gauss 0.03473353385925293\n",
      "time for linalg lstsq gauss 0.26834607124328613\n",
      "time for scipy lu gauss 0.12852144241333008\n",
      "\n",
      "for matrix 1300x1300\n",
      "time for custom gauss  706.7924249172211\n",
      "time for custom gauss np  5.670153379440308\n",
      "time for linalg solve gauss 0.04080629348754883\n",
      "time for linalg lstsq gauss 0.3483762741088867\n",
      "time for scipy lu gauss 0.1320204734802246\n",
      "\n",
      "for matrix 1400x1400\n",
      "time for custom gauss  862.2860162258148\n",
      "time for custom gauss np  6.624165058135986\n",
      "time for linalg solve gauss 0.04980063438415527\n",
      "time for linalg lstsq gauss 0.5175685882568359\n",
      "time for scipy lu gauss 0.1358027458190918\n"
     ]
    }
   ],
   "source": [
    "matrixs = [np.random.rand(i * 100, i * 100) for i in range(5,15)]\n",
    "b = [np.array([1] * (i * 100)) for i in range(5,15)]\n",
    "\n",
    "\n",
    "for i in range(10):\n",
    "    print(f\"\\nfor matrix {(i+5)*100}x{(i+5)*100}\")\n",
    "    start = time.time()\n",
    "    gauss_jordan(matrixs[i], b[i])\n",
    "    stop = time.time()\n",
    "    custom_time = stop - start\n",
    "    \n",
    "\n",
    "    start = time.time()\n",
    "    gauss_jordan_np(matrixs[i], b[i])\n",
    "    stop = time.time()\n",
    "    custom_time_np = stop - start\n",
    "    \n",
    "    start = time.time()\n",
    "    np.linalg.solve(matrixs[i], b[i])\n",
    "    stop = time.time()\n",
    "    linalg_solve_time = stop - start\n",
    "    \n",
    "    start = time.time()\n",
    "    np.linalg.lstsq(matrixs[i], b[i])\n",
    "    stop = time.time()\n",
    "    linalg_lstsq_time = stop - start\n",
    "    \n",
    "    start = time.time()\n",
    "    scipy.linalg.lu(matrixs[i])\n",
    "    stop = time.time()\n",
    "    scipy_lu_time = stop - start\n",
    "    \n",
    "    print('time for custom gauss ', custom_time)\n",
    "    print('time for custom gauss np ', custom_time_np)\n",
    "    print('time for linalg solve gauss', linalg_solve_time)\n",
    "    print('time for linalg lstsq gauss', linalg_lstsq_time)\n",
    "    print('time for scipy lu gauss', scipy_lu_time)\n"
   ],
   "metadata": {
    "collapsed": false,
    "ExecuteTime": {
     "end_time": "2025-03-21T16:34:21.006655Z",
     "start_time": "2025-03-21T15:31:17.627013Z"
    }
   },
   "id": "f930ac112120408e",
   "execution_count": 3
  },
  {
   "cell_type": "markdown",
   "source": [
    "# Zadanie 2\n",
    "Napisz i przetestuj funkcję dokonującą faktoryzacji A = LU macierzy A (bez poszuki-\n",
    "wania elementu wiodącego). Sprawdź poprawność wyniku obliczając ∥A − LU∥. Zadbaj\n",
    "o to żeby implementacja była in-situ. Elementy macierzy L to współczynniki mnożenia\n",
    "umożliwiające wyzerowanie odpowiedniego współczynnika macierzy A w trakcie procesu\n",
    "eliminacji."
   ],
   "metadata": {
    "collapsed": false
   },
   "id": "f0675e2a8c34809b"
  },
  {
   "cell_type": "code",
   "outputs": [
    {
     "name": "stdout",
     "output_type": "stream",
     "text": [
      "2.8467933225302388e-11\n"
     ]
    }
   ],
   "source": [
    "def LU(A):\n",
    "    n = A.shape[0]\n",
    "    for i in range(n):\n",
    "        for j in range(i + 1, n):\n",
    "            pivot = A[j,i] / A[i,i]\n",
    "            A[j, i:] -= pivot * A[i, i:]\n",
    "            A[j,i] = pivot\n",
    "\n",
    "    L = np.tril(A, -1) + np.eye(n)\n",
    "    U = np.triu(A)\n",
    "    return (L, U)\n",
    "\n",
    "A = np.random.rand(500,500)\n",
    "L, U = LU(A.copy())\n",
    "\n",
    "print(np.linalg.norm(np.subtract(A, np.matmul(L,U))))"
   ],
   "metadata": {
    "collapsed": false,
    "ExecuteTime": {
     "end_time": "2025-03-21T16:34:21.372702Z",
     "start_time": "2025-03-21T16:34:21.008752Z"
    }
   },
   "id": "d6a801839c4ca418",
   "execution_count": 4
  },
  {
   "cell_type": "code",
   "outputs": [],
   "source": [],
   "metadata": {
    "collapsed": false,
    "ExecuteTime": {
     "end_time": "2025-03-21T16:34:21.376848Z",
     "start_time": "2025-03-21T16:34:21.374193Z"
    }
   },
   "id": "8f5f2d32e015f1b0",
   "execution_count": 4
  }
 ],
 "metadata": {
  "kernelspec": {
   "display_name": "Python 3",
   "language": "python",
   "name": "python3"
  },
  "language_info": {
   "codemirror_mode": {
    "name": "ipython",
    "version": 2
   },
   "file_extension": ".py",
   "mimetype": "text/x-python",
   "name": "python",
   "nbconvert_exporter": "python",
   "pygments_lexer": "ipython2",
   "version": "2.7.6"
  }
 },
 "nbformat": 4,
 "nbformat_minor": 5
}
